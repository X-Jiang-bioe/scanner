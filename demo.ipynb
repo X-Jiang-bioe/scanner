{
 "cells": [
  {
   "cell_type": "markdown",
   "metadata": {},
   "source": [
    "Demo is running on Python 3.7.7"
   ]
  },
  {
   "cell_type": "code",
   "execution_count": 1,
   "metadata": {},
   "outputs": [],
   "source": [
    "import numpy as np"
   ]
  },
  {
   "cell_type": "code",
   "execution_count": 2,
   "metadata": {},
   "outputs": [],
   "source": [
    "from doe_tool import doe_tool"
   ]
  },
  {
   "cell_type": "markdown",
   "metadata": {},
   "source": [
    "Suppose we have a simple model of single interaction dynamics"
   ]
  },
  {
   "cell_type": "code",
   "execution_count": 3,
   "metadata": {},
   "outputs": [],
   "source": [
    "model = '''\n",
    "$X->Y; beta*X;\n",
    "Y-> ; alpha*Y;\n",
    "\n",
    "X = 1; Y = 0;\n",
    "beta = 1;\n",
    "alpha = 0.1;\n",
    "\n",
    "'''"
   ]
  },
  {
   "attachments": {},
   "cell_type": "markdown",
   "metadata": {},
   "source": [
    "The following command initializes the model that we want to analyze"
   ]
  },
  {
   "cell_type": "code",
   "execution_count": 4,
   "metadata": {},
   "outputs": [
    {
     "name": "stderr",
     "output_type": "stream",
     "text": [
      "\u001b[35mError: Could not open stream: File not found\u001b[0m\n"
     ]
    }
   ],
   "source": [
    "g = doe_tool(model)"
   ]
  },
  {
   "cell_type": "markdown",
   "metadata": {},
   "source": [
    "Once the model is loaded, a simulator coroutine is created and calls to it are\n",
    "performed internally like so:"
   ]
  },
  {
   "cell_type": "code",
   "execution_count": 5,
   "metadata": {},
   "outputs": [
    {
     "data": {
      "text/plain": [
       "        time,      [Y]\n",
       " [[        0,        0],\n",
       "  [ 0.505051, 0.492509],\n",
       "  [   1.0101,  0.96076],\n",
       "  [  1.51515,  1.40595],\n",
       "  [   2.0202,  1.82921],\n",
       "  [  2.52525,  2.23163],\n",
       "  [   3.0303,  2.61423],\n",
       "  [  3.53535,  2.97798],\n",
       "  [   4.0404,  3.32382],\n",
       "  [  4.54545,  3.65263],\n",
       "  [  5.05051,  3.96525],\n",
       "  [  5.55556,  4.26247],\n",
       "  [  6.06061,  4.54505],\n",
       "  [  6.56566,  4.81371],\n",
       "  [  7.07071,  5.06914],\n",
       "  [  7.57576,  5.31199],\n",
       "  [  8.08081,  5.54288],\n",
       "  [  8.58586,  5.76239],\n",
       "  [  9.09091,  5.97109],\n",
       "  [  9.59596,  6.16952],\n",
       "  [   10.101,  6.35817],\n",
       "  [  10.6061,  6.53753],\n",
       "  [  11.1111,  6.70806],\n",
       "  [  11.6162,  6.87019],\n",
       "  [  12.1212,  7.02434],\n",
       "  [  12.6263,  7.17089],\n",
       "  [  13.1313,  7.31023],\n",
       "  [  13.6364,   7.4427],\n",
       "  [  14.1414,  7.56865],\n",
       "  [  14.6465,  7.68839],\n",
       "  [  15.1515,  7.80224],\n",
       "  [  15.6566,  7.91048],\n",
       "  [  16.1616,  8.01338],\n",
       "  [  16.6667,  8.11122],\n",
       "  [  17.1717,  8.20424],\n",
       "  [  17.6768,  8.29268],\n",
       "  [  18.1818,  8.37676],\n",
       "  [  18.6869,   8.4567],\n",
       "  [  19.1919,   8.5327],\n",
       "  [   19.697,  8.60496],\n",
       "  [   20.202,  8.67366],\n",
       "  [  20.7071,  8.73898],\n",
       "  [  21.2121,  8.80109],\n",
       "  [  21.7172,  8.86013],\n",
       "  [  22.2222,  8.91627],\n",
       "  [  22.7273,  8.96964],\n",
       "  [  23.2323,  9.02038],\n",
       "  [  23.7374,  9.06863],\n",
       "  [  24.2424,   9.1145],\n",
       "  [  24.7475,  9.15811],\n",
       "  [  25.2525,  9.19957],\n",
       "  [  25.7576,  9.23899],\n",
       "  [  26.2626,  9.27647],\n",
       "  [  26.7677,   9.3121],\n",
       "  [  27.2727,  9.34598],\n",
       "  [  27.7778,  9.37819],\n",
       "  [  28.2828,  9.40881],\n",
       "  [  28.7879,  9.43793],\n",
       "  [  29.2929,  9.46561],\n",
       "  [   29.798,  9.49193],\n",
       "  [   30.303,  9.51695],\n",
       "  [  30.8081,  9.54074],\n",
       "  [  31.3131,  9.56336],\n",
       "  [  31.8182,  9.58486],\n",
       "  [  32.3232,   9.6053],\n",
       "  [  32.8283,  9.62474],\n",
       "  [  33.3333,  9.64322],\n",
       "  [  33.8384,  9.66079],\n",
       "  [  34.3434,   9.6775],\n",
       "  [  34.8485,  9.69338],\n",
       "  [  35.3535,  9.70848],\n",
       "  [  35.8586,  9.72284],\n",
       "  [  36.3636,  9.73649],\n",
       "  [  36.8687,  9.74947],\n",
       "  [  37.3737,  9.76181],\n",
       "  [  37.8788,  9.77354],\n",
       "  [  38.3838,  9.78469],\n",
       "  [  38.8889,  9.79529],\n",
       "  [  39.3939,  9.80537],\n",
       "  [   39.899,  9.81496],\n",
       "  [   40.404,  9.82407],\n",
       "  [  40.9091,  9.83274],\n",
       "  [  41.4141,  9.84097],\n",
       "  [  41.9192,  9.84881],\n",
       "  [  42.4242,  9.85625],\n",
       "  [  42.9293,  9.86333],\n",
       "  [  43.4343,  9.87006],\n",
       "  [  43.9394,  9.87646],\n",
       "  [  44.4444,  9.88255],\n",
       "  [  44.9495,  9.88833],\n",
       "  [  45.4545,  9.89383],\n",
       "  [  45.9596,  9.89906],\n",
       "  [  46.4646,  9.90403],\n",
       "  [  46.9697,  9.90876],\n",
       "  [  47.4747,  9.91325],\n",
       "  [  47.9798,  9.91752],\n",
       "  [  48.4848,  9.92158],\n",
       "  [  48.9899,  9.92545],\n",
       "  [  49.4949,  9.92912],\n",
       "  [       50,  9.93261]]"
      ]
     },
     "execution_count": 5,
     "metadata": {},
     "output_type": "execute_result"
    }
   ],
   "source": [
    "test = g.simulate({'alpha': .1, 'beta': 1})\n",
    "test"
   ]
  },
  {
   "cell_type": "markdown",
   "metadata": {},
   "source": [
    "Extracting other values form the model that do not require simulation (such as Eigen values) is in a To Do list, but will similarly be calls to the coroutine"
   ]
  },
  {
   "cell_type": "markdown",
   "metadata": {},
   "source": [
    "Post processing of Time Series data is expected to vary between cases, so the program wraps\n",
    "any normal function into a coroutine:"
   ]
  },
  {
   "cell_type": "code",
   "execution_count": 6,
   "metadata": {},
   "outputs": [],
   "source": [
    "def post_processing(data):\n",
    "    # Example of finding response time of a model\n",
    "    # extract last value in dataset, divide by 2 and find\n",
    "    # location of closest value in dataset\n",
    "    halfmax = (data['[Y]'][-1])/2\n",
    "    return data['time'][np.argmin(abs(data['[Y]'] - halfmax))]"
   ]
  },
  {
   "cell_type": "code",
   "execution_count": 7,
   "metadata": {},
   "outputs": [],
   "source": [
    "g.load_post_processor(post_processing)"
   ]
  },
  {
   "attachments": {},
   "cell_type": "markdown",
   "metadata": {},
   "source": [
    "Post-processed information is then evalueated against a certain range of values too see if the requirement is met. In here, we call them conditionals"
   ]
  },
  {
   "cell_type": "code",
   "execution_count": 8,
   "metadata": {},
   "outputs": [],
   "source": [
    "# Conditionals setup\n",
    "g.set_conditional('boundary', 0, 2)"
   ]
  },
  {
   "attachments": {},
   "cell_type": "markdown",
   "metadata": {},
   "source": [
    "At this point the setup is finished. There are 2 options for model analysis present: scanning and optimizing.\n",
    "\n",
    "We will use the following parameters for our Grid Search"
   ]
  },
  {
   "cell_type": "code",
   "execution_count": 9,
   "metadata": {},
   "outputs": [],
   "source": [
    "grid_search_parameters = (\n",
    "    ('alpha', [.01, .1, 1, 10, 100] ),\n",
    "    ('beta', range(1, 5))\n",
    ")\n",
    "# The above specifies what parameter you want to vary and the range/list of values to check"
   ]
  },
  {
   "attachments": {},
   "cell_type": "markdown",
   "metadata": {},
   "source": [
    "### optimize"
   ]
  },
  {
   "attachments": {},
   "cell_type": "markdown",
   "metadata": {},
   "source": [
    "Faster option; does not save any runs except for the first one that satified the conditional"
   ]
  },
  {
   "cell_type": "code",
   "execution_count": 10,
   "metadata": {},
   "outputs": [
    {
     "data": {
      "text/plain": [
       "{'alpha': 1, 'beta': 1}"
      ]
     },
     "execution_count": 10,
     "metadata": {},
     "output_type": "execute_result"
    }
   ],
   "source": [
    "g.optimize_demo('grid', grid_search_parameters)"
   ]
  },
  {
   "attachments": {},
   "cell_type": "markdown",
   "metadata": {},
   "source": [
    "To check that we are indeed within specified boundary of (0,2)"
   ]
  },
  {
   "cell_type": "code",
   "execution_count": 11,
   "metadata": {},
   "outputs": [
    {
     "data": {
      "text/plain": [
       "0.5050505050505051"
      ]
     },
     "execution_count": 11,
     "metadata": {},
     "output_type": "execute_result"
    }
   ],
   "source": [
    "g.send_post_processor(g.simulate({'alpha': 1, 'beta': 1}))"
   ]
  },
  {
   "attachments": {},
   "cell_type": "markdown",
   "metadata": {},
   "source": [
    "### scan"
   ]
  },
  {
   "attachments": {},
   "cell_type": "markdown",
   "metadata": {},
   "source": [
    "Unlike optimize, scan goes through all listed values for our grid search and saves every value"
   ]
  },
  {
   "cell_type": "code",
   "execution_count": 12,
   "metadata": {},
   "outputs": [],
   "source": [
    "g.scan('grid', grid_search_parameters) #load in parameters of interest and start scanning"
   ]
  },
  {
   "attachments": {},
   "cell_type": "markdown",
   "metadata": {},
   "source": [
    "Getting the intermediate runs, or the complete scan is possible using the following command"
   ]
  },
  {
   "cell_type": "code",
   "execution_count": 13,
   "metadata": {},
   "outputs": [],
   "source": [
    "specs, sims, results = g.get_scan()"
   ]
  },
  {
   "cell_type": "code",
   "execution_count": 14,
   "metadata": {},
   "outputs": [
    {
     "name": "stdout",
     "output_type": "stream",
     "text": [
      "(21.71717171717172, 7.070707070707071)\n",
      "({'alpha': 0.01, 'beta': 1}, {'alpha': 0.1, 'beta': 2})\n"
     ]
    }
   ],
   "source": [
    "print((results[0], results[5]))\n",
    "print((specs[0], specs[5]))"
   ]
  },
  {
   "cell_type": "code",
   "execution_count": null,
   "metadata": {},
   "outputs": [],
   "source": []
  }
 ],
 "metadata": {
  "kernelspec": {
   "display_name": "Python 3.7.7 ('tell')",
   "language": "python",
   "name": "python3"
  },
  "language_info": {
   "codemirror_mode": {
    "name": "ipython",
    "version": 3
   },
   "file_extension": ".py",
   "mimetype": "text/x-python",
   "name": "python",
   "nbconvert_exporter": "python",
   "pygments_lexer": "ipython3",
   "version": "3.7.7"
  },
  "orig_nbformat": 4,
  "vscode": {
   "interpreter": {
    "hash": "5c91d8bc368c07f2c452113b208a7f00eb020136d3aa3e724dda52bd0c304e9f"
   }
  }
 },
 "nbformat": 4,
 "nbformat_minor": 2
}
