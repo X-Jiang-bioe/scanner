{
 "cells": [
  {
   "cell_type": "markdown",
   "metadata": {},
   "source": [
    "Demo is running on Python 3.7.7"
   ]
  },
  {
   "cell_type": "code",
   "execution_count": 1,
   "metadata": {},
   "outputs": [],
   "source": [
    "import tellurium as te\n",
    "import numpy as np"
   ]
  },
  {
   "cell_type": "code",
   "execution_count": 2,
   "metadata": {},
   "outputs": [],
   "source": [
    "from doe_tool import *"
   ]
  },
  {
   "cell_type": "code",
   "execution_count": 3,
   "metadata": {},
   "outputs": [],
   "source": [
    "START = 0\n",
    "END = 100\n",
    "NUM_PTS = 100\n",
    "PAR_NAMES = ('alpha', 'beta')\n",
    "IN_VALS = (0.1, 1)"
   ]
  },
  {
   "cell_type": "markdown",
   "metadata": {},
   "source": [
    "Suppose we have a simple model of single interaction dynamics"
   ]
  },
  {
   "cell_type": "code",
   "execution_count": 4,
   "metadata": {},
   "outputs": [],
   "source": [
    "model = '''\n",
    "$X->Y; beta*X;\n",
    "Y-> ; alpha*Y;\n",
    "\n",
    "X = 1; Y = 0;\n",
    "beta = 1;\n",
    "alpha = 0.1;\n",
    "\n",
    "'''\n",
    "\n",
    "r = te.loada(model)"
   ]
  },
  {
   "cell_type": "markdown",
   "metadata": {},
   "source": [
    "function below represents what will be done automatically in the finished scanner"
   ]
  },
  {
   "cell_type": "code",
   "execution_count": 5,
   "metadata": {},
   "outputs": [],
   "source": [
    "def model(sim_specs):\n",
    "    r.resetAll()\n",
    "    for key in sim_specs:\n",
    "        r[key] = sim_specs[key]\n",
    "    return r.simulate(START, END, NUM_PTS)"
   ]
  },
  {
   "cell_type": "markdown",
   "metadata": {},
   "source": [
    "The finished product will start here"
   ]
  },
  {
   "cell_type": "code",
   "execution_count": 6,
   "metadata": {},
   "outputs": [],
   "source": [
    "g = doe_tool(model, PAR_NAMES, IN_VALS)"
   ]
  },
  {
   "cell_type": "markdown",
   "metadata": {},
   "source": [
    "Once the model is loaded, a simulator coroutine is created and calls to it are\n",
    "performed internally like so:"
   ]
  },
  {
   "cell_type": "code",
   "execution_count": 7,
   "metadata": {},
   "outputs": [
    {
     "data": {
      "text/plain": [
       "       time,      [Y]\n",
       " [[       0,        0],\n",
       "  [  1.0101, 0.960759],\n",
       "  [  2.0202,  1.82921],\n",
       "  [  3.0303,  2.61423],\n",
       "  [  4.0404,  3.32383],\n",
       "  [ 5.05051,  3.96525],\n",
       "  [ 6.06061,  4.54505],\n",
       "  [ 7.07071,  5.06914],\n",
       "  [ 8.08081,  5.54288],\n",
       "  [ 9.09091,  5.97111],\n",
       "  [  10.101,  6.35819],\n",
       "  [ 11.1111,  6.70808],\n",
       "  [ 12.1212,  7.02435],\n",
       "  [ 13.1313,  7.31023],\n",
       "  [ 14.1414,  7.56865],\n",
       "  [ 15.1515,  7.80224],\n",
       "  [ 16.1616,   8.0134],\n",
       "  [ 17.1717,  8.20426],\n",
       "  [ 18.1818,  8.37679],\n",
       "  [ 19.1919,  8.53274],\n",
       "  [  20.202,   8.6737],\n",
       "  [ 21.2121,  8.80113],\n",
       "  [ 22.2222,  8.91631],\n",
       "  [ 23.2323,  9.02043],\n",
       "  [ 24.2424,  9.11454],\n",
       "  [ 25.2525,  9.19961],\n",
       "  [ 26.2626,  9.27651],\n",
       "  [ 27.2727,  9.34602],\n",
       "  [ 28.2828,  9.40885],\n",
       "  [ 29.2929,  9.46564],\n",
       "  [  30.303,  9.51698],\n",
       "  [ 31.3131,  9.56339],\n",
       "  [ 32.3232,  9.60533],\n",
       "  [ 33.3333,  9.64325],\n",
       "  [ 34.3434,  9.67752],\n",
       "  [ 35.3535,   9.7085],\n",
       "  [ 36.3636,  9.73651],\n",
       "  [ 37.3737,  9.76182],\n",
       "  [ 38.3838,   9.7847],\n",
       "  [ 39.3939,  9.80539],\n",
       "  [  40.404,  9.82408],\n",
       "  [ 41.4141,  9.84098],\n",
       "  [ 42.4242,  9.85626],\n",
       "  [ 43.4343,  9.87007],\n",
       "  [ 44.4444,  9.88255],\n",
       "  [ 45.4545,  9.89384],\n",
       "  [ 46.4646,  9.90404],\n",
       "  [ 47.4747,  9.91326],\n",
       "  [ 48.4848,  9.92159],\n",
       "  [ 49.4949,  9.92912],\n",
       "  [ 50.5051,  9.93593],\n",
       "  [ 51.5152,  9.94209],\n",
       "  [ 52.5253,  9.94765],\n",
       "  [ 53.5354,  9.95268],\n",
       "  [ 54.5455,  9.95723],\n",
       "  [ 55.5556,  9.96134],\n",
       "  [ 56.5657,  9.96505],\n",
       "  [ 57.5758,  9.96841],\n",
       "  [ 58.5859,  9.97144],\n",
       "  [  59.596,  9.97419],\n",
       "  [ 60.6061,  9.97667],\n",
       "  [ 61.6162,  9.97891],\n",
       "  [ 62.6263,  9.98093],\n",
       "  [ 63.6364,  9.98276],\n",
       "  [ 64.6465,  9.98442],\n",
       "  [ 65.6566,  9.98591],\n",
       "  [ 66.6667,  9.98727],\n",
       "  [ 67.6768,  9.98849],\n",
       "  [ 68.6869,  9.98959],\n",
       "  [  69.697,  9.99059],\n",
       "  [ 70.7071,   9.9915],\n",
       "  [ 71.7172,  9.99231],\n",
       "  [ 72.7273,  9.99305],\n",
       "  [ 73.7374,  9.99372],\n",
       "  [ 74.7475,  9.99432],\n",
       "  [ 75.7576,  9.99487],\n",
       "  [ 76.7677,  9.99536],\n",
       "  [ 77.7778,  9.99581],\n",
       "  [ 78.7879,  9.99621],\n",
       "  [  79.798,  9.99657],\n",
       "  [ 80.8081,   9.9969],\n",
       "  [ 81.8182,   9.9972],\n",
       "  [ 82.8283,  9.99747],\n",
       "  [ 83.8384,  9.99771],\n",
       "  [ 84.8485,  9.99793],\n",
       "  [ 85.8586,  9.99813],\n",
       "  [ 86.8687,  9.99831],\n",
       "  [ 87.8788,  9.99847],\n",
       "  [ 88.8889,  9.99862],\n",
       "  [  89.899,  9.99875],\n",
       "  [ 90.9091,  9.99887],\n",
       "  [ 91.9192,  9.99898],\n",
       "  [ 92.9293,  9.99908],\n",
       "  [ 93.9394,  9.99916],\n",
       "  [ 94.9495,  9.99924],\n",
       "  [ 95.9596,  9.99932],\n",
       "  [ 96.9697,  9.99938],\n",
       "  [ 97.9798,  9.99944],\n",
       "  [ 98.9899,  9.99949],\n",
       "  [     100,  9.99954]]"
      ]
     },
     "execution_count": 7,
     "metadata": {},
     "output_type": "execute_result"
    }
   ],
   "source": [
    "test = g.simulate({'alpha': .1, 'beta': 1})\n",
    "test"
   ]
  },
  {
   "cell_type": "markdown",
   "metadata": {},
   "source": [
    "Extracting other values form the model that do not require simulation (such as Eigen values) is in a To Do list, but will similarly be calls to the coroutine"
   ]
  },
  {
   "cell_type": "markdown",
   "metadata": {},
   "source": [
    "Post processing of Time Series data is expected to vary between cases, so the program wraps\n",
    "any normal function into a coroutine:"
   ]
  },
  {
   "cell_type": "code",
   "execution_count": 8,
   "metadata": {},
   "outputs": [],
   "source": [
    "def post_processing(data):\n",
    "    # Example of finding response time of a model\n",
    "    # extract last value in dataset, divide by 2 and find\n",
    "    # location of closest value in dataset\n",
    "    halfmax = (data['[Y]'][-1])/2\n",
    "    return data['time'][np.argmin(abs(data['[Y]'] - halfmax))]"
   ]
  },
  {
   "cell_type": "code",
   "execution_count": 9,
   "metadata": {},
   "outputs": [],
   "source": [
    "g.load_post_processor(post_processing)"
   ]
  },
  {
   "cell_type": "markdown",
   "metadata": {},
   "source": [
    "Calls to the post processor are performed internally like so:"
   ]
  },
  {
   "cell_type": "code",
   "execution_count": 10,
   "metadata": {},
   "outputs": [
    {
     "data": {
      "text/plain": [
       "7.070707070707071"
      ]
     },
     "execution_count": 10,
     "metadata": {},
     "output_type": "execute_result"
    }
   ],
   "source": [
    "test_post = g.send_post_processor(test)\n",
    "test_post"
   ]
  },
  {
   "cell_type": "markdown",
   "metadata": {},
   "source": [
    "The actual scan with an optional search condition starts here"
   ]
  },
  {
   "cell_type": "code",
   "execution_count": 11,
   "metadata": {},
   "outputs": [],
   "source": [
    "# Conditionals setup\n",
    "g.set_conditional('boundary', 0, 2)"
   ]
  },
  {
   "cell_type": "markdown",
   "metadata": {},
   "source": [
    "Internal calls are, again, sent like so:"
   ]
  },
  {
   "cell_type": "code",
   "execution_count": 12,
   "metadata": {},
   "outputs": [
    {
     "data": {
      "text/plain": [
       "False"
      ]
     },
     "execution_count": 12,
     "metadata": {},
     "output_type": "execute_result"
    }
   ],
   "source": [
    "g.send_conditional(20)"
   ]
  },
  {
   "cell_type": "markdown",
   "metadata": {},
   "source": [
    "The actual scanning algorithm is under development, the placeholder prototype will only work for the gridsearch"
   ]
  },
  {
   "cell_type": "code",
   "execution_count": 13,
   "metadata": {},
   "outputs": [
    {
     "data": {
      "text/plain": [
       "{'alpha': 1, 'beta': 1}"
      ]
     },
     "execution_count": 13,
     "metadata": {},
     "output_type": "execute_result"
    }
   ],
   "source": [
    "grid_search_parameters = (\n",
    "    ('alpha', [.01, .1, 1, 10, 100] ),\n",
    "    ('beta', range(1, 5))\n",
    ")\n",
    "g.scan_demo(grid_search_parameters)"
   ]
  },
  {
   "cell_type": "code",
   "execution_count": 14,
   "metadata": {},
   "outputs": [
    {
     "data": {
      "text/plain": [
       "1.0101010101010102"
      ]
     },
     "execution_count": 14,
     "metadata": {},
     "output_type": "execute_result"
    }
   ],
   "source": [
    "g.send_post_processor(g.simulate({'alpha': 1, 'beta': 1}))"
   ]
  },
  {
   "cell_type": "markdown",
   "metadata": {},
   "source": [
    "So, in the finished product, running the parameter scan for a model of interest will only take a few steps:"
   ]
  },
  {
   "cell_type": "code",
   "execution_count": 15,
   "metadata": {},
   "outputs": [
    {
     "data": {
      "text/plain": [
       "{'alpha': 1, 'beta': 1}"
      ]
     },
     "execution_count": 15,
     "metadata": {},
     "output_type": "execute_result"
    }
   ],
   "source": [
    "scanner = doe_tool(model, PAR_NAMES, IN_VALS) #load model\n",
    "scanner.load_post_processor(post_processing) #setup post processor, if needed\n",
    "scanner.set_conditional('boundary', 0, 2) #set up a condition of exiting scan\n",
    "scanner.scan_demo(grid_search_parameters) #load in parameters of interest and start scanning"
   ]
  },
  {
   "cell_type": "markdown",
   "metadata": {},
   "source": [
    "Getting the intermediate runs, or the complete scan is possible using the following command;\n",
    "keep in mind that this will singnificantly slow down the scan"
   ]
  },
  {
   "cell_type": "code",
   "execution_count": 17,
   "metadata": {},
   "outputs": [],
   "source": [
    "simulations, results, specs = scanner.get_simulations(grid_search_parameters)"
   ]
  },
  {
   "cell_type": "code",
   "execution_count": 18,
   "metadata": {},
   "outputs": [
    {
     "name": "stdout",
     "output_type": "stream",
     "text": [
      "(38.38383838383839, 7.070707070707071)\n",
      "({'alpha': 0.01, 'beta': 1}, {'alpha': 0.1, 'beta': 2})\n"
     ]
    }
   ],
   "source": [
    "print((results[0], results[5]))\n",
    "print((specs[0], specs[5]))"
   ]
  },
  {
   "cell_type": "code",
   "execution_count": null,
   "metadata": {},
   "outputs": [],
   "source": []
  }
 ],
 "metadata": {
  "kernelspec": {
   "display_name": "Python 3.7.7 ('tell')",
   "language": "python",
   "name": "python3"
  },
  "language_info": {
   "codemirror_mode": {
    "name": "ipython",
    "version": 3
   },
   "file_extension": ".py",
   "mimetype": "text/x-python",
   "name": "python",
   "nbconvert_exporter": "python",
   "pygments_lexer": "ipython3",
   "version": "3.7.7"
  },
  "orig_nbformat": 4,
  "vscode": {
   "interpreter": {
    "hash": "5c91d8bc368c07f2c452113b208a7f00eb020136d3aa3e724dda52bd0c304e9f"
   }
  }
 },
 "nbformat": 4,
 "nbformat_minor": 2
}
