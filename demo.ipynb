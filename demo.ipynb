{
 "cells": [
  {
   "cell_type": "code",
   "execution_count": 1,
   "metadata": {},
   "outputs": [],
   "source": [
    "import tellurium as te\n",
    "from doe_tool import *"
   ]
  },
  {
   "cell_type": "code",
   "execution_count": 11,
   "metadata": {},
   "outputs": [],
   "source": [
    "START = 0\n",
    "END = 100\n",
    "NUM_PTS = 100\n",
    "PAR_NAMES = ('alpha', 'beta')\n",
    "IN_VALS = (0.1, 1)"
   ]
  },
  {
   "cell_type": "code",
   "execution_count": 2,
   "metadata": {},
   "outputs": [],
   "source": [
    "model = '''\n",
    "$X->Y; beta*X;\n",
    "Y-> ; alpha*Y;\n",
    "\n",
    "X = 1; Y = 0;\n",
    "beta = 1;\n",
    "alpha = 0.1;\n",
    "\n",
    "'''\n",
    "\n",
    "r = te.loada(model)"
   ]
  },
  {
   "cell_type": "code",
   "execution_count": 8,
   "metadata": {},
   "outputs": [],
   "source": [
    "def model(sim_specs):\n",
    "    r.resetAll()\n",
    "    for key in sim_specs:\n",
    "        r[key] = sim_specs[key]\n",
    "    return r.simulate(START, END, NUM_PTS)"
   ]
  },
  {
   "cell_type": "code",
   "execution_count": 10,
   "metadata": {},
   "outputs": [],
   "source": [
    "def post_processing(data):\n",
    "    # extract last value in dataset, divide by 2 and find location of closest value in said dataset\n",
    "    halfmax = (data['[Y]'][-1])/2\n",
    "    return data['time'][np.argmin(abs(data['[Y]'] - halfmax))]"
   ]
  },
  {
   "cell_type": "code",
   "execution_count": null,
   "metadata": {},
   "outputs": [],
   "source": [
    "g = doe_tool(model, PAR_NAMES, IN_VALS)"
   ]
  }
 ],
 "metadata": {
  "kernelspec": {
   "display_name": "Python 3.8.15 ('scanner')",
   "language": "python",
   "name": "python3"
  },
  "language_info": {
   "codemirror_mode": {
    "name": "ipython",
    "version": 3
   },
   "file_extension": ".py",
   "mimetype": "text/x-python",
   "name": "python",
   "nbconvert_exporter": "python",
   "pygments_lexer": "ipython3",
   "version": "3.8.15"
  },
  "orig_nbformat": 4,
  "vscode": {
   "interpreter": {
    "hash": "27310a749d8d25df52a9b12f187956bd3cc4be9f4c3e8f6ac534a71f65200968"
   }
  }
 },
 "nbformat": 4,
 "nbformat_minor": 2
}
